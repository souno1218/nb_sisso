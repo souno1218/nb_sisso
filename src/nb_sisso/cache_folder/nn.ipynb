{
 "cells": [
  {
   "cell_type": "code",
   "execution_count": 1,
   "metadata": {},
   "outputs": [],
   "source": [
    "import numpy as np\n",
    "import pandas as pd\n",
    "from make_cache import main, decryption"
   ]
  },
  {
   "cell_type": "code",
   "execution_count": null,
   "metadata": {},
   "outputs": [],
   "source": [
    "import numpy as np\n",
    "loop = 1\n",
    "for k in range(i):\n",
    "    loop *= n_selected_indexes - k\n",
    "for k in range(i):\n",
    "    loop //= k + 1\n",
    "print(\"   loop : \", loop)\n",
    "split_indexes = np.array_split(np.arange(loop), num_threads)"
   ]
  },
  {
   "cell_type": "code",
   "execution_count": null,
   "metadata": {},
   "outputs": [
    {
     "name": "stderr",
     "output_type": "stream",
     "text": [
      "2025-03-19 12:38:37,867 : numba=0.60.0, numpy=2.0.2\n",
      "2025-03-19 12:38:37,868 : OPT=_OptLevel(3), THREADING_LAYER=default\n",
      "2025-03-19 12:38:37,868 : USING_SVML=False, ENABLE_AVX=True, DISABLE_JIT=0\n",
      "2025-03-19 12:38:37,868 : max_op = 1  ,  date : 2025-03-19 12:38:37.868785\n",
      "2025-03-19 12:38:37,869 : use cores : 8\n",
      "2025-03-19 12:38:37,869 : making random_x\n",
      "2025-03-19 12:38:37,869 :    seed = 8755, loop = 100000, upper = 0.5, lower = 1.5\n",
      "2025-03-19 12:38:38,325 : random_x corrcoef = 5.852632668568979e-06\n",
      "2025-03-19 12:38:38,718 : make_before_similar_num_list\n",
      "2025-03-19 12:38:38,719 :    Memory size of numpy array = 0.0 M bytes +alpha (1data=1280 bytes, loop=2)\n",
      "2025-03-19 12:38:43,508 :    time : 0:00:04.788891\n",
      "2025-03-19 12:38:43,508 : make_unique_equations\n",
      "2025-03-19 12:38:43,509 :    n_op1 = 0, n_op2 = 0\n",
      "2025-03-19 12:38:45,434 :       make_unique_equations_thread\n",
      "2025-03-19 12:38:45,435 :          Memory size of numpy array = 0.0 M bytes +alpha (1data=698 bytes, size_arr_for_mem=20)\n",
      "2025-03-19 12:39:01,460 :          time : 0:00:16.025212\n",
      "2025-03-19 12:39:01,461 :       dim_reduction\n",
      "2025-03-19 12:39:01,461 :          Memory size of numpy array = 0.0 M bytes +alpha (1data=648 bytes, size_arr_for_mem=12)\n",
      "2025-03-19 12:39:03,243 :          time : 0:00:01.781715\n",
      "2025-03-19 12:39:03,243 :       make_check_exist_info\n",
      "2025-03-19 12:39:03,244 :          Memory size of numpy array = 0.0 M bytes +alpha (1data=683 bytes, size_arr_for_mem=0)\n",
      "2025-03-19 12:39:03,955 :          time : 0:00:00.712365\n",
      "2025-03-19 12:39:03,956 :       dim_reduction_info\n",
      "2025-03-19 12:39:03,956 :          Memory size of numpy array = 0.0 M bytes +alpha (1data=688 bytes, size_arr_for_mem=10)\n"
     ]
    }
   ],
   "source": [
    "import numpy as np\n",
    "import pandas as pd\n",
    "from make_cache import main, decryption\n",
    "num_threads = 8\n",
    "max_n_plus = 5\n",
    "seed = np.random.randint(10000)\n",
    "# seed = 2062\n",
    "# seed = 1986\n",
    "# seed = 9852\n",
    "for n_plus in range(1, max_n_plus + 1):\n",
    "    main(n_plus,num_threads,len_x=40, log_interval=30, seed=seed)\n",
    "print(\"seed : \", seed)\n",
    "print(\"num_threads : \", num_threads)"
   ]
  },
  {
   "cell_type": "code",
   "execution_count": null,
   "metadata": {},
   "outputs": [
    {
     "ename": "SyntaxError",
     "evalue": "illegal target for annotation (3326823552.py, line 2)",
     "output_type": "error",
     "traceback": [
      "\u001b[0;36m  Cell \u001b[0;32mIn[3], line 2\u001b[0;36m\u001b[0m\n\u001b[0;31m    630:281\u001b[0m\n\u001b[0m    ^\u001b[0m\n\u001b[0;31mSyntaxError\u001b[0m\u001b[0;31m:\u001b[0m illegal target for annotation\n"
     ]
    }
   ],
   "source": [
    "[2, 10, 80, 911, 13471, 251705, 5561536]\n",
    "630:281\n",
    "10208:3263\n",
    "201552:50153"
   ]
  },
  {
   "cell_type": "markdown",
   "metadata": {},
   "source": [
    "1 : 201838:49888   \n",
    "4 : 201838:49888   \n",
    "8 : 201838:49888   "
   ]
  },
  {
   "cell_type": "code",
   "execution_count": 9,
   "metadata": {},
   "outputs": [
    {
     "data": {
      "text/plain": [
       "array([3, 3, 2, 1, 3])"
      ]
     },
     "execution_count": 9,
     "metadata": {},
     "output_type": "execute_result"
    }
   ],
   "source": [
    "np.random.randint(1,4,5)"
   ]
  },
  {
   "cell_type": "code",
   "execution_count": null,
   "metadata": {},
   "outputs": [],
   "source": [
    "import numpy as np\n",
    "n_selected_indexes = 7\n",
    "i = 3\n",
    "use = np.zeros(i, dtype=\"int\")\n",
    "arr_max = np.array([6, 3, 7], dtype=\"int\")\n",
    "arr_use = []\n",
    "while True:\n",
    "    arr_use.append(use.copy())\n",
    "    done_plus_one = False\n",
    "    for l in range(i - 1, -1, -1):\n",
    "        if use[l] != arr_max[l] - 1:\n",
    "            use[l] += 1\n",
    "            done_plus_one = True\n",
    "            break\n",
    "        else:\n",
    "            use[l] = 0\n",
    "    if not done_plus_one:\n",
    "        break\n",
    "print(arr_use)"
   ]
  },
  {
   "cell_type": "code",
   "execution_count": 6,
   "metadata": {},
   "outputs": [
    {
     "name": "stdout",
     "output_type": "stream",
     "text": [
      "[array([0, 0, 0]), array([0, 0, 1]), array([0, 0, 2]), array([0, 0, 3]), array([0, 0, 4]), array([0, 0, 5]), array([0, 0, 6]), array([0, 1, 0]), array([0, 1, 1]), array([0, 1, 2]), array([0, 1, 3]), array([0, 1, 4]), array([0, 1, 5]), array([0, 1, 6]), array([0, 2, 0]), array([0, 2, 1]), array([0, 2, 2]), array([0, 2, 3]), array([0, 2, 4]), array([0, 2, 5]), array([0, 2, 6]), array([1, 0, 0]), array([1, 0, 1]), array([1, 0, 2]), array([1, 0, 3]), array([1, 0, 4]), array([1, 0, 5]), array([1, 0, 6]), array([1, 1, 0]), array([1, 1, 1]), array([1, 1, 2]), array([1, 1, 3]), array([1, 1, 4]), array([1, 1, 5]), array([1, 1, 6]), array([1, 2, 0]), array([1, 2, 1]), array([1, 2, 2]), array([1, 2, 3]), array([1, 2, 4]), array([1, 2, 5]), array([1, 2, 6]), array([2, 0, 0]), array([2, 0, 1]), array([2, 0, 2]), array([2, 0, 3]), array([2, 0, 4]), array([2, 0, 5]), array([2, 0, 6]), array([2, 1, 0]), array([2, 1, 1]), array([2, 1, 2]), array([2, 1, 3]), array([2, 1, 4]), array([2, 1, 5]), array([2, 1, 6]), array([2, 2, 0]), array([2, 2, 1]), array([2, 2, 2]), array([2, 2, 3]), array([2, 2, 4]), array([2, 2, 5]), array([2, 2, 6]), array([3, 0, 0]), array([3, 0, 1]), array([3, 0, 2]), array([3, 0, 3]), array([3, 0, 4]), array([3, 0, 5]), array([3, 0, 6]), array([3, 1, 0]), array([3, 1, 1]), array([3, 1, 2]), array([3, 1, 3]), array([3, 1, 4]), array([3, 1, 5]), array([3, 1, 6]), array([3, 2, 0]), array([3, 2, 1]), array([3, 2, 2]), array([3, 2, 3]), array([3, 2, 4]), array([3, 2, 5]), array([3, 2, 6]), array([4, 0, 0]), array([4, 0, 1]), array([4, 0, 2]), array([4, 0, 3]), array([4, 0, 4]), array([4, 0, 5]), array([4, 0, 6]), array([4, 1, 0]), array([4, 1, 1]), array([4, 1, 2]), array([4, 1, 3]), array([4, 1, 4]), array([4, 1, 5]), array([4, 1, 6]), array([4, 2, 0]), array([4, 2, 1]), array([4, 2, 2]), array([4, 2, 3]), array([4, 2, 4]), array([4, 2, 5]), array([4, 2, 6]), array([5, 0, 0]), array([5, 0, 1]), array([5, 0, 2]), array([5, 0, 3]), array([5, 0, 4]), array([5, 0, 5]), array([5, 0, 6]), array([5, 1, 0]), array([5, 1, 1]), array([5, 1, 2]), array([5, 1, 3]), array([5, 1, 4]), array([5, 1, 5]), array([5, 1, 6]), array([5, 2, 0]), array([5, 2, 1]), array([5, 2, 2]), array([5, 2, 3]), array([5, 2, 4]), array([5, 2, 5]), array([5, 2, 6])]\n"
     ]
    }
   ],
   "source": [
    "import numpy as np\n",
    "n_selected_indexes = 7\n",
    "i = 3\n",
    "use = np.zeros(i, dtype=\"int\")\n",
    "arr_max = np.array([6, 3, 7], dtype=\"int\")\n",
    "arr_use = []\n",
    "while True:\n",
    "    arr_use.append(use.copy())\n",
    "    done_plus_one = False\n",
    "    for l in range(i - 1, -1, -1):\n",
    "        if use[l] != arr_max[l] - 1:\n",
    "            use[l] += 1\n",
    "            done_plus_one = True\n",
    "            break\n",
    "        else:\n",
    "            use[l] = 0\n",
    "    if not done_plus_one:\n",
    "        break\n",
    "print(arr_use)"
   ]
  },
  {
   "cell_type": "code",
   "execution_count": 6,
   "metadata": {},
   "outputs": [
    {
     "name": "stdout",
     "output_type": "stream",
     "text": [
      "[0 0 0]\n",
      "[1 0 0]\n",
      "[2 0 0]\n",
      "[3 0 0]\n",
      "[4 0 0]\n",
      "[5 0 0]\n",
      "[0 1 0]\n",
      "[1 1 0]\n",
      "[2 1 0]\n",
      "[3 1 0]\n",
      "[4 1 0]\n",
      "[5 1 0]\n",
      "[0 2 0]\n",
      "[1 2 0]\n",
      "[2 2 0]\n",
      "[3 2 0]\n",
      "[4 2 0]\n",
      "[5 2 0]\n",
      "[0 0 1]\n",
      "[1 0 1]\n",
      "[2 0 1]\n",
      "[3 0 1]\n",
      "[4 0 1]\n",
      "[5 0 1]\n",
      "[0 1 1]\n",
      "[1 1 1]\n",
      "[2 1 1]\n",
      "[3 1 1]\n",
      "[4 1 1]\n",
      "[5 1 1]\n",
      "[0 2 1]\n",
      "[1 2 1]\n",
      "[2 2 1]\n",
      "[3 2 1]\n",
      "[4 2 1]\n",
      "[5 2 1]\n",
      "[0 0 2]\n",
      "[1 0 2]\n",
      "[2 0 2]\n",
      "[3 0 2]\n",
      "[4 0 2]\n",
      "[5 0 2]\n",
      "[0 1 2]\n",
      "[1 1 2]\n",
      "[2 1 2]\n",
      "[3 1 2]\n",
      "[4 1 2]\n",
      "[5 1 2]\n",
      "[0 2 2]\n",
      "[1 2 2]\n",
      "[2 2 2]\n",
      "[3 2 2]\n",
      "[4 2 2]\n",
      "[5 2 2]\n",
      "[0 0 3]\n",
      "[1 0 3]\n",
      "[2 0 3]\n",
      "[3 0 3]\n",
      "[4 0 3]\n",
      "[5 0 3]\n",
      "[0 1 3]\n",
      "[1 1 3]\n",
      "[2 1 3]\n",
      "[3 1 3]\n",
      "[4 1 3]\n",
      "[5 1 3]\n",
      "[0 2 3]\n",
      "[1 2 3]\n",
      "[2 2 3]\n",
      "[3 2 3]\n",
      "[4 2 3]\n",
      "[5 2 3]\n",
      "[0 0 4]\n",
      "[1 0 4]\n",
      "[2 0 4]\n",
      "[3 0 4]\n",
      "[4 0 4]\n",
      "[5 0 4]\n",
      "[0 1 4]\n",
      "[1 1 4]\n",
      "[2 1 4]\n",
      "[3 1 4]\n",
      "[4 1 4]\n",
      "[5 1 4]\n",
      "[0 2 4]\n",
      "[1 2 4]\n",
      "[2 2 4]\n",
      "[3 2 4]\n",
      "[4 2 4]\n",
      "[5 2 4]\n",
      "[0 0 5]\n",
      "[1 0 5]\n",
      "[2 0 5]\n",
      "[3 0 5]\n",
      "[4 0 5]\n",
      "[5 0 5]\n",
      "[0 1 5]\n",
      "[1 1 5]\n",
      "[2 1 5]\n",
      "[3 1 5]\n",
      "[4 1 5]\n",
      "[5 1 5]\n",
      "[0 2 5]\n",
      "[1 2 5]\n",
      "[2 2 5]\n",
      "[3 2 5]\n",
      "[4 2 5]\n",
      "[5 2 5]\n",
      "[0 0 6]\n",
      "[1 0 6]\n",
      "[2 0 6]\n",
      "[3 0 6]\n",
      "[4 0 6]\n",
      "[5 0 6]\n",
      "[0 1 6]\n",
      "[1 1 6]\n",
      "[2 1 6]\n",
      "[3 1 6]\n",
      "[4 1 6]\n",
      "[5 1 6]\n",
      "[0 2 6]\n",
      "[1 2 6]\n",
      "[2 2 6]\n",
      "[3 2 6]\n",
      "[4 2 6]\n",
      "[5 2 6]\n"
     ]
    }
   ],
   "source": [
    "n = 3\n",
    "use = np.zeros(n, dtype=\"int\")\n",
    "arr_max = np.array([6, 3, 7], dtype=\"int\")\n",
    "loop = 1\n",
    "for i in arr_max:\n",
    "    loop *= i\n",
    "for i in range(loop):\n",
    "    cp_i = i\n",
    "    for j in range(n):\n",
    "        use[j] = cp_i % arr_max[j]\n",
    "        cp_i //= arr_max[j]\n",
    "    print(use)"
   ]
  },
  {
   "cell_type": "code",
   "execution_count": null,
   "metadata": {},
   "outputs": [],
   "source": [
    "import numpy as np\n",
    "i = 3\n",
    "n_selected_indexes = 5\n",
    "use = np.arange(i)\n",
    "while True:\n",
    "    print(use)\n",
    "    done_plus_one = False\n",
    "    for l in range(i - 1, -1, -1):\n",
    "        if use[l] != n_selected_indexes - (i - l):\n",
    "            use[l] += 1\n",
    "            done_plus_one = True\n",
    "            break\n",
    "        else:\n",
    "            for m in range(l - 1, -1, -1):\n",
    "                if use[m] != n_selected_indexes - (i - m):\n",
    "                    use[l] = use[m] + 1 + (l - m)\n",
    "                    break\n",
    "    if not done_plus_one:\n",
    "        break"
   ]
  },
  {
   "cell_type": "code",
   "execution_count": 7,
   "metadata": {},
   "outputs": [
    {
     "name": "stdout",
     "output_type": "stream",
     "text": [
      "[0 1 2]\n",
      "[0 1 3]\n",
      "[0 1 4]\n",
      "[0 2 3]\n",
      "[0 2 4]\n",
      "[0 3 4]\n",
      "[1 2 3]\n",
      "[1 2 4]\n",
      "[1 3 4]\n",
      "[2 3 4]\n"
     ]
    }
   ],
   "source": [
    "import numpy as np\n",
    "i = 3\n",
    "n_selected_indexes = 5\n",
    "use = np.arange(i)\n",
    "while True:\n",
    "    print(use)\n",
    "    done_plus_one = False\n",
    "    for l in range(i - 1, -1, -1):\n",
    "        if use[l] != n_selected_indexes - (i - l):\n",
    "            use[l] += 1\n",
    "            done_plus_one = True\n",
    "            break\n",
    "        else:\n",
    "            for m in range(l - 1, -1, -1):\n",
    "                if use[m] != n_selected_indexes - (i - m):\n",
    "                    use[l] = use[m] + 1 + (l - m)\n",
    "                    break\n",
    "    if not done_plus_one:\n",
    "        break"
   ]
  },
  {
   "cell_type": "code",
   "execution_count": null,
   "metadata": {},
   "outputs": [],
   "source": [
    "import numpy as np\n",
    "i = 3\n",
    "n_selected_indexes = 5\n",
    "num_threads = 3\n",
    "use = np.arange(i)\n",
    "while True:\n",
    "    print(use)\n",
    "    remaining_num = num_threads\n",
    "    done_plus = False\n",
    "    for l in range(i - 1, -1, -1):\n",
    "        if use[l] + remaining_num < n_selected_indexes - (i - l) + 1:\n",
    "            use[l] += remaining_num\n",
    "            remaining_num = 0\n",
    "            done_plus = True\n",
    "            break\n",
    "        else:\n",
    "            for m in range(l - 1, -1, -1):\n",
    "                if use[m] != n_selected_indexes - (i - m):\n",
    "                    use[l] = use[m] + 1 + (l - m)\n",
    "                    break\n",
    "    if not done_plus:\n",
    "        break"
   ]
  },
  {
   "cell_type": "markdown",
   "metadata": {},
   "source": [
    "2, 10, 80, 911, 13471, 251726   \n",
    "1 : 6:4   \n",
    "2 : 53:27   \n",
    "3 : 636:275   \n",
    "4 : 10241:3230   \n",
    "5 : 201838:49888   "
   ]
  },
  {
   "cell_type": "code",
   "execution_count": null,
   "metadata": {},
   "outputs": [],
   "source": [
    "#np.save(\"arr_len\", np.array([2],dtype=\"int64\"))\n",
    "#np.save(\"operator_0\",np.array([[1],[0]],dtype=\"int8\"))\n",
    "#np.savez(f\"check_change_x_tot_0\", np.full((2, 2, 2), -100, dtype=\"int8\"))"
   ]
  },
  {
   "cell_type": "code",
   "execution_count": null,
   "metadata": {},
   "outputs": [],
   "source": [
    "np.load(\"operator_0.npy\")"
   ]
  },
  {
   "cell_type": "code",
   "execution_count": null,
   "metadata": {},
   "outputs": [],
   "source": [
    "np.arange(2,dtype=\"int8\")[::-1].reshape((-1,1))"
   ]
  },
  {
   "cell_type": "code",
   "execution_count": null,
   "metadata": {},
   "outputs": [],
   "source": [
    "np.load(\"check_change_x_tot_0.npz\")[\"arr_0\"]"
   ]
  },
  {
   "cell_type": "code",
   "execution_count": null,
   "metadata": {},
   "outputs": [],
   "source": [
    "import numpy as np\n",
    "from numba import njit, prange\n",
    "from numba_progress.numba_atomic import atomic_add, atomic_xchg,atomic_min\n",
    "\n",
    "@njit()\n",
    "def fibo(n):\n",
    "    a, b = 0, 1\n",
    "    fibolist=np.zeros(n)\n",
    "    for i in range(n):\n",
    "        a, b = b, a+b\n",
    "        fibolist[i]=a\n",
    "\n",
    "\n",
    "@njit(parallel=True, error_model=\"numpy\")\n",
    "def func(loop, target_num, num_threads = 8):\n",
    "    weight = 100\n",
    "    counter = np.zeros(num_threads, dtype=\"int64\")\n",
    "    checked = np.zeros(1, dtype=\"int8\")\n",
    "    for thread_id in prange(num_threads):\n",
    "        for i in range(thread_id, loop, num_threads):\n",
    "            if checked[0] == 1:\n",
    "                break\n",
    "            for j in range(weight):\n",
    "                fibo(10000)\n",
    "            counter[thread_id] = i\n",
    "            if target_num == i:\n",
    "                atomic_add(checked,0,1)\n",
    "                break\n",
    "    return counter\n",
    "loop = 100000\n",
    "target_num = 30\n",
    "func(loop, target_num)"
   ]
  },
  {
   "cell_type": "code",
   "execution_count": null,
   "metadata": {},
   "outputs": [],
   "source": [
    "import numpy as np\n",
    "from numba import njit, prange\n",
    "from numba_progress.numba_atomic import atomic_add, atomic_xchg,atomic_min\n",
    "\n",
    "@njit()\n",
    "def fibo(n):\n",
    "    a, b = 0, 1\n",
    "    fibolist=np.zeros(n)\n",
    "    for i in range(n):\n",
    "        a, b = b, a+b\n",
    "        fibolist[i]=a\n",
    "\n",
    "\n",
    "@njit(parallel=True, error_model=\"numpy\")\n",
    "def func(loop, target_num, num_threads = 8):\n",
    "    weight = 100\n",
    "    counter = np.zeros(num_threads, dtype=\"int64\")\n",
    "    checked = np.zeros(1, dtype=\"int8\")\n",
    "    for i in prange(loop):\n",
    "        if checked[0] == 0:\n",
    "            for j in range(weight):\n",
    "                fibo(10000)\n",
    "            counter[i % num_threads] = i\n",
    "            if target_num == i:\n",
    "                atomic_add(checked,0,1)\n",
    "    return counter, checked\n",
    "loop = 100000\n",
    "target_num = 30\n",
    "func(loop, target_num)"
   ]
  },
  {
   "cell_type": "code",
   "execution_count": null,
   "metadata": {},
   "outputs": [],
   "source": [
    "np.random.seed(100)\n",
    "max_op = 5\n",
    "len_x = 300\n",
    "\n",
    "#logger.info(\"making random_x\")\n",
    "save_random_x = np.random.uniform(0.3, 10, (max_op + 2, len_x))\n",
    "save_corrcoef = np.max(np.abs(np.corrcoef(save_random_x[1:]) - np.eye(max_op + 1)))\n",
    "for i in range(100000):\n",
    "    random_x = np.random.uniform(0.3, 10, (max_op + 2, len_x))\n",
    "    corrcoef = np.max(np.abs(np.corrcoef(random_x[1:]) - np.eye(max_op + 1)))\n",
    "    if save_corrcoef > corrcoef:\n",
    "        save_corrcoef = corrcoef\n",
    "        save_random_x = random_x\n",
    "random_x = save_random_x.copy()\n",
    "random_x[0] = 1"
   ]
  },
  {
   "cell_type": "code",
   "execution_count": null,
   "metadata": {},
   "outputs": [],
   "source": [
    "from numba import njit\n",
    "@njit\n",
    "def func(max_op, len_x):\n",
    "    save_random_x = np.random.uniform(0.3, 10, (max_op + 2, len_x))\n",
    "    save_corrcoef = np.max(np.abs(np.corrcoef(save_random_x[1:]) - np.eye(max_op + 1)))\n",
    "    for _ in range(100000):\n",
    "        random_x = np.random.uniform(0.3, 10, (max_op + 2, len_x))\n",
    "        corrcoef = np.max(np.abs(np.corrcoef(random_x[1:]) - np.eye(max_op + 1)))\n",
    "        if save_corrcoef > corrcoef:\n",
    "            save_corrcoef = corrcoef\n",
    "            save_random_x = random_x\n",
    "    random_x = save_random_x.copy()\n",
    "    random_x[0] = 1\n",
    "    print(save_corrcoef)\n",
    "max_op = 5\n",
    "len_x = 300\n",
    "func(max_op, len_x)"
   ]
  },
  {
   "cell_type": "code",
   "execution_count": null,
   "metadata": {},
   "outputs": [],
   "source": [
    "func(max_op, len_x)"
   ]
  },
  {
   "cell_type": "code",
   "execution_count": null,
   "metadata": {},
   "outputs": [],
   "source": [
    "np.random.uniform(-10, 10)"
   ]
  },
  {
   "cell_type": "code",
   "execution_count": null,
   "metadata": {},
   "outputs": [],
   "source": [
    "from numba import njit\n",
    "import numpy as np\n",
    "\n",
    "@njit\n",
    "def corrcoef(x_1, x_2):\n",
    "    mean_1, mean_2 = np.mean(x_1), np.mean(x_2)\n",
    "    x_len = x_1.shape[0]\n",
    "    sum_1, sum_2, cov = 0.0, 0.0, 0.0\n",
    "    for i in range(x_len):\n",
    "        sum_1 += (x_1[i] - mean_1)**2\n",
    "        sum_2 += (x_2[i] - mean_2)**2\n",
    "        cov += (x_1[i] - mean_1) * (x_2[i] - mean_2)\n",
    "    return np.abs(cov / np.sqrt(sum_1 * sum_2))\n",
    "\n",
    "@njit\n",
    "def func(max_op, len_x, seed=-100, loop=100000, upper=0.3, lower=10):\n",
    "    if seed != -100:\n",
    "        np.random.seed(seed)\n",
    "    save_random_x = np.random.uniform(upper,lower , (max_op + 2, len_x))\n",
    "    save_corrcoef = 0\n",
    "    for i in range(1, max_op + 1):\n",
    "        for j in range(i + 1, max_op + 2):\n",
    "            new_corrcoef = corrcoef(save_random_x[i], save_random_x[j])\n",
    "            if new_corrcoef > save_corrcoef:\n",
    "                save_corrcoef = new_corrcoef\n",
    "    for _ in range(loop):\n",
    "        random_x = np.random.uniform(upper, lower, (max_op + 2, len_x))\n",
    "        now_corrcoef = 0\n",
    "        for i in range(1, max_op + 1):\n",
    "            for j in range(i + 1, max_op + 2):\n",
    "                new_corrcoef = corrcoef(random_x[i], random_x[j])\n",
    "                if new_corrcoef > now_corrcoef:\n",
    "                    now_corrcoef = new_corrcoef\n",
    "        if save_corrcoef > now_corrcoef:\n",
    "            save_corrcoef = now_corrcoef\n",
    "            save_random_x = random_x\n",
    "    save_random_x[0] = 1\n",
    "    return save_corrcoef, save_random_x"
   ]
  },
  {
   "cell_type": "code",
   "execution_count": null,
   "metadata": {},
   "outputs": [],
   "source": [
    "max_op = 5\n",
    "len_x = 300\n",
    "func(max_op, len_x,seed=-100, loop=1000000, upper=-10, lower=10)[0]"
   ]
  },
  {
   "cell_type": "code",
   "execution_count": null,
   "metadata": {},
   "outputs": [],
   "source": []
  },
  {
   "cell_type": "code",
   "execution_count": null,
   "metadata": {},
   "outputs": [],
   "source": []
  }
 ],
 "metadata": {
  "kernelspec": {
   "display_name": "Env_3.10_for_any",
   "language": "python",
   "name": "python3"
  },
  "language_info": {
   "codemirror_mode": {
    "name": "ipython",
    "version": 3
   },
   "file_extension": ".py",
   "mimetype": "text/x-python",
   "name": "python",
   "nbconvert_exporter": "python",
   "pygments_lexer": "ipython3",
   "version": "3.10.15"
  }
 },
 "nbformat": 4,
 "nbformat_minor": 2
}
