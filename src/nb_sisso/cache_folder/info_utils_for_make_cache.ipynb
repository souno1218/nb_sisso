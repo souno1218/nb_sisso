{
 "cells": [
  {
   "cell_type": "code",
   "execution_count": 3,
   "metadata": {},
   "outputs": [],
   "source": [
    "import numpy as np\n",
    "from numba import njit"
   ]
  },
  {
   "cell_type": "markdown",
   "metadata": {},
   "source": [
    "## nb_permutations"
   ]
  },
  {
   "cell_type": "code",
   "execution_count": 4,
   "metadata": {},
   "outputs": [],
   "source": [
    "@njit(error_model=\"numpy\")\n",
    "def nb_permutations(pattern, length):\n",
    "    # pattern :1d ndarray, likely np.arange(1,10,2)\n",
    "    # length :int, length<=pattern.shape[0]\n",
    "    loop = 1\n",
    "    n_pattern = pattern.shape[0]\n",
    "    for i in range(length):\n",
    "        loop *= n_pattern - i\n",
    "    return_arr = np.zeros((loop, length), dtype=\"int8\")\n",
    "    list_index_pattern = np.arange(n_pattern)\n",
    "    for i in range(loop):\n",
    "        mask = np.ones(n_pattern, dtype=\"bool\")\n",
    "        num = i\n",
    "        for j in range(length):\n",
    "            index_pattern = (list_index_pattern[mask])[num % (n_pattern - j)]\n",
    "            return_arr[i, j] = pattern[index_pattern]\n",
    "            num //= n_pattern - j\n",
    "            mask[index_pattern] = False\n",
    "    return return_arr"
   ]
  },
  {
   "cell_type": "code",
   "execution_count": 5,
   "metadata": {},
   "outputs": [
    {
     "data": {
      "text/plain": [
       "array([[1, 3],\n",
       "       [3, 1],\n",
       "       [5, 1],\n",
       "       [7, 1],\n",
       "       [1, 5],\n",
       "       [3, 5],\n",
       "       [5, 3],\n",
       "       [7, 3],\n",
       "       [1, 7],\n",
       "       [3, 7],\n",
       "       [5, 7],\n",
       "       [7, 5]], dtype=int8)"
      ]
     },
     "execution_count": 5,
     "metadata": {},
     "output_type": "execute_result"
    }
   ],
   "source": [
    "nb_permutations(np.arange(1,8,2), 2)"
   ]
  },
  {
   "cell_type": "markdown",
   "metadata": {},
   "source": [
    "## make_dict_change_x_pattern"
   ]
  },
  {
   "cell_type": "code",
   "execution_count": 6,
   "metadata": {},
   "outputs": [],
   "source": [
    "def make_dict_change_x_pattern(max_ops):\n",
    "    dict_change_x_pattern = dict()\n",
    "    dict_change_x_pattern[0] = np.zeros((1, 1), dtype=\"int8\")\n",
    "    dict_max_loop = np.ones((max_ops + 1, max_ops + 1), dtype=\"int64\")\n",
    "    for i in range(1, max_ops + 1):\n",
    "        change_x_pattern = nb_permutations(np.arange(1, max_ops + 2), i)  # not use 0,it is const(1)\n",
    "        max_drop_num = np.zeros(change_x_pattern.shape[0], dtype=\"int8\")\n",
    "        for j in range(change_x_pattern.shape[0]):\n",
    "            max_ = change_x_pattern[j, 0]\n",
    "            save = max_ - 1\n",
    "            for k in range(1, change_x_pattern.shape[1]):\n",
    "                if max_ + 1 == change_x_pattern[j, k]:\n",
    "                    max_ = change_x_pattern[j, k]\n",
    "                elif max_ + 1 < change_x_pattern[j, k]:\n",
    "                    max_ = change_x_pattern[j, k]\n",
    "                    save = max_ - 1\n",
    "            max_drop_num[j] = save\n",
    "        dict_change_x_pattern[i] = change_x_pattern[np.argsort(max_drop_num)].astype(\"int8\")\n",
    "        dict_max_loop[i] = np.array([np.sum(max_drop_num <= j) for j in range(np.max(max_drop_num) + 1)])\n",
    "    return dict_change_x_pattern, dict_max_loop"
   ]
  },
  {
   "cell_type": "code",
   "execution_count": 7,
   "metadata": {},
   "outputs": [
    {
     "data": {
      "text/plain": [
       "{0: array([[0]], dtype=int8),\n",
       " 1: array([[1],\n",
       "        [2],\n",
       "        [3],\n",
       "        [4],\n",
       "        [5]], dtype=int8),\n",
       " 2: array([[1, 2],\n",
       "        [2, 1],\n",
       "        [2, 3],\n",
       "        [3, 1],\n",
       "        [1, 3],\n",
       "        [3, 2],\n",
       "        [3, 4],\n",
       "        [4, 1],\n",
       "        [4, 2],\n",
       "        [4, 5],\n",
       "        [1, 4],\n",
       "        [2, 4],\n",
       "        [4, 3],\n",
       "        [3, 5],\n",
       "        [2, 5],\n",
       "        [5, 2],\n",
       "        [5, 3],\n",
       "        [5, 1],\n",
       "        [1, 5],\n",
       "        [5, 4]], dtype=int8),\n",
       " 3: array([[1, 2, 3],\n",
       "        [2, 1, 3],\n",
       "        [2, 3, 4],\n",
       "        [2, 3, 1],\n",
       "        [1, 3, 4],\n",
       "        [3, 4, 5],\n",
       "        [3, 2, 4],\n",
       "        [3, 4, 1],\n",
       "        [3, 4, 2],\n",
       "        [3, 1, 4],\n",
       "        [3, 2, 1],\n",
       "        [1, 3, 2],\n",
       "        [3, 1, 2],\n",
       "        [4, 1, 3],\n",
       "        [1, 4, 3],\n",
       "        [4, 5, 3],\n",
       "        [4, 2, 3],\n",
       "        [4, 2, 5],\n",
       "        [4, 5, 2],\n",
       "        [1, 4, 5],\n",
       "        [4, 3, 2],\n",
       "        [2, 4, 3],\n",
       "        [1, 2, 4],\n",
       "        [4, 1, 5],\n",
       "        [2, 4, 5],\n",
       "        [4, 5, 1],\n",
       "        [4, 3, 5],\n",
       "        [4, 1, 2],\n",
       "        [4, 3, 1],\n",
       "        [2, 4, 1],\n",
       "        [1, 4, 2],\n",
       "        [2, 1, 4],\n",
       "        [4, 2, 1],\n",
       "        [1, 3, 5],\n",
       "        [2, 3, 5],\n",
       "        [3, 2, 5],\n",
       "        [5, 1, 4],\n",
       "        [5, 2, 4],\n",
       "        [1, 5, 4],\n",
       "        [5, 3, 4],\n",
       "        [3, 5, 4],\n",
       "        [2, 5, 4],\n",
       "        [5, 2, 3],\n",
       "        [2, 1, 5],\n",
       "        [5, 1, 2],\n",
       "        [5, 2, 1],\n",
       "        [5, 3, 1],\n",
       "        [1, 5, 2],\n",
       "        [2, 5, 1],\n",
       "        [3, 5, 1],\n",
       "        [3, 1, 5],\n",
       "        [5, 4, 1],\n",
       "        [5, 3, 2],\n",
       "        [1, 5, 3],\n",
       "        [2, 5, 3],\n",
       "        [3, 5, 2],\n",
       "        [5, 4, 2],\n",
       "        [1, 2, 5],\n",
       "        [5, 1, 3],\n",
       "        [5, 4, 3]], dtype=int8),\n",
       " 4: array([[1, 2, 3, 4],\n",
       "        [2, 3, 4, 5],\n",
       "        [2, 3, 1, 4],\n",
       "        [2, 3, 4, 1],\n",
       "        [2, 1, 3, 4],\n",
       "        [3, 1, 4, 5],\n",
       "        [3, 2, 4, 1],\n",
       "        [3, 1, 4, 2],\n",
       "        [3, 4, 2, 5],\n",
       "        [3, 2, 4, 5],\n",
       "        [3, 4, 5, 2],\n",
       "        [3, 4, 2, 1],\n",
       "        [1, 3, 4, 2],\n",
       "        [1, 3, 4, 5],\n",
       "        [3, 4, 1, 5],\n",
       "        [3, 2, 1, 4],\n",
       "        [3, 1, 2, 4],\n",
       "        [1, 3, 2, 4],\n",
       "        [3, 4, 1, 2],\n",
       "        [3, 4, 5, 1],\n",
       "        [2, 4, 5, 1],\n",
       "        [4, 5, 2, 3],\n",
       "        [1, 4, 5, 2],\n",
       "        [4, 2, 5, 1],\n",
       "        [4, 3, 5, 1],\n",
       "        [4, 3, 2, 5],\n",
       "        [4, 5, 3, 1],\n",
       "        [4, 2, 3, 5],\n",
       "        [2, 4, 3, 5],\n",
       "        [1, 4, 3, 5],\n",
       "        [4, 1, 2, 5],\n",
       "        [4, 1, 5, 2],\n",
       "        [4, 2, 1, 5],\n",
       "        [1, 4, 2, 5],\n",
       "        [2, 4, 1, 5],\n",
       "        [4, 3, 1, 5],\n",
       "        [4, 1, 3, 5],\n",
       "        [2, 1, 4, 5],\n",
       "        [4, 5, 3, 2],\n",
       "        [4, 1, 5, 3],\n",
       "        [4, 5, 1, 3],\n",
       "        [1, 4, 5, 3],\n",
       "        [4, 5, 1, 2],\n",
       "        [2, 1, 4, 3],\n",
       "        [4, 1, 3, 2],\n",
       "        [1, 2, 4, 5],\n",
       "        [4, 2, 3, 1],\n",
       "        [4, 3, 5, 2],\n",
       "        [1, 4, 3, 2],\n",
       "        [2, 4, 3, 1],\n",
       "        [1, 2, 4, 3],\n",
       "        [4, 3, 2, 1],\n",
       "        [4, 3, 1, 2],\n",
       "        [2, 4, 1, 3],\n",
       "        [1, 4, 2, 3],\n",
       "        [4, 2, 1, 3],\n",
       "        [4, 5, 2, 1],\n",
       "        [4, 1, 2, 3],\n",
       "        [4, 2, 5, 3],\n",
       "        [2, 4, 5, 3],\n",
       "        [5, 1, 3, 4],\n",
       "        [1, 5, 4, 3],\n",
       "        [5, 3, 4, 2],\n",
       "        [2, 5, 4, 3],\n",
       "        [3, 5, 4, 2],\n",
       "        [3, 1, 5, 4],\n",
       "        [5, 2, 4, 3],\n",
       "        [5, 3, 2, 4],\n",
       "        [1, 5, 3, 4],\n",
       "        [3, 2, 5, 4],\n",
       "        [2, 5, 3, 4],\n",
       "        [2, 3, 5, 4],\n",
       "        [3, 5, 2, 4],\n",
       "        [1, 3, 5, 4],\n",
       "        [5, 4, 2, 3],\n",
       "        [1, 2, 5, 4],\n",
       "        [2, 1, 5, 4],\n",
       "        [5, 2, 3, 4],\n",
       "        [5, 1, 4, 3],\n",
       "        [5, 4, 3, 1],\n",
       "        [3, 5, 1, 4],\n",
       "        [2, 1, 5, 3],\n",
       "        [1, 2, 5, 3],\n",
       "        [5, 4, 2, 1],\n",
       "        [3, 5, 2, 1],\n",
       "        [2, 5, 3, 1],\n",
       "        [1, 5, 3, 2],\n",
       "        [5, 3, 2, 1],\n",
       "        [3, 1, 5, 2],\n",
       "        [5, 2, 3, 1],\n",
       "        [5, 4, 1, 2],\n",
       "        [3, 5, 1, 2],\n",
       "        [2, 5, 1, 3],\n",
       "        [1, 5, 2, 3],\n",
       "        [5, 3, 1, 2],\n",
       "        [5, 2, 1, 3],\n",
       "        [5, 1, 2, 3],\n",
       "        [5, 1, 3, 2],\n",
       "        [5, 1, 4, 2],\n",
       "        [1, 3, 5, 2],\n",
       "        [2, 3, 5, 1],\n",
       "        [2, 5, 1, 4],\n",
       "        [1, 5, 2, 4],\n",
       "        [5, 3, 1, 4],\n",
       "        [5, 2, 1, 4],\n",
       "        [3, 2, 1, 5],\n",
       "        [2, 3, 1, 5],\n",
       "        [1, 3, 2, 5],\n",
       "        [5, 1, 2, 4],\n",
       "        [3, 1, 2, 5],\n",
       "        [2, 1, 3, 5],\n",
       "        [1, 2, 3, 5],\n",
       "        [3, 5, 4, 1],\n",
       "        [2, 5, 4, 1],\n",
       "        [1, 5, 4, 2],\n",
       "        [5, 3, 4, 1],\n",
       "        [5, 2, 4, 1],\n",
       "        [3, 2, 5, 1],\n",
       "        [5, 4, 1, 3],\n",
       "        [5, 4, 3, 2]], dtype=int8)}"
      ]
     },
     "execution_count": 7,
     "metadata": {},
     "output_type": "execute_result"
    }
   ],
   "source": [
    "dict_change_x_pattern, dict_max_loop=make_dict_change_x_pattern(4)\n",
    "dict_change_x_pattern"
   ]
  },
  {
   "cell_type": "code",
   "execution_count": 8,
   "metadata": {},
   "outputs": [
    {
     "data": {
      "text/plain": [
       "array([[  1,   1,   1,   1,   1],\n",
       "       [  1,   2,   3,   4,   5],\n",
       "       [  1,   3,   7,  13,  20],\n",
       "       [  1,   4,  13,  33,  60],\n",
       "       [  1,   5,  20,  60, 120]])"
      ]
     },
     "execution_count": 8,
     "metadata": {},
     "output_type": "execute_result"
    }
   ],
   "source": [
    "dict_max_loop"
   ]
  },
  {
   "cell_type": "code",
   "execution_count": 9,
   "metadata": {},
   "outputs": [
    {
     "name": "stdout",
     "output_type": "stream",
     "text": [
      "0 : [[1 2 3]]\n",
      "1 : [2 1 3]~[2 3 1]\n",
      "2 : [1 3 4]~[3 1 2]\n",
      "3 : [4 1 3]~[4 2 1]\n",
      "4 : [1 3 5]~[5 4 3]\n"
     ]
    }
   ],
   "source": [
    "n=3\n",
    "print(f\"0 : {dict_change_x_pattern[n][:dict_max_loop[n,0]]}\")\n",
    "for i in range(1,dict_max_loop.shape[0]):\n",
    "    print(f\"{i} : {dict_change_x_pattern[n][dict_max_loop[n,i-1]]}~{dict_change_x_pattern[n][dict_max_loop[n,i]-1]}\")"
   ]
  },
  {
   "cell_type": "markdown",
   "metadata": {},
   "source": [
    "## make_change_x_id"
   ]
  },
  {
   "cell_type": "code",
   "execution_count": 9,
   "metadata": {},
   "outputs": [],
   "source": [
    "def make_change_x_id(mask, x_max):\n",
    "    # mask -> [3,4,2] みたいな\n",
    "    # x_max -> 全体としての最大値\n",
    "    TF = np.ones(x_max+1, dtype=\"bool\")\n",
    "    return_num = 0\n",
    "    for i in range(mask.shape[0]):\n",
    "        return_num *= x_max - i\n",
    "        return_num += np.sum(TF[: mask[i]])\n",
    "        TF[mask[i]] = False\n",
    "    return return_num"
   ]
  },
  {
   "cell_type": "markdown",
   "metadata": {},
   "source": [
    "## make_dict_mask_x"
   ]
  },
  {
   "cell_type": "code",
   "execution_count": 10,
   "metadata": {},
   "outputs": [
    {
     "data": {
      "text/plain": [
       "{0: array([[0]], dtype=int8),\n",
       " 1: array([[0, 1]], dtype=int8),\n",
       " 2: array([[0, 1, 2],\n",
       "        [0, 2, 1]], dtype=int8),\n",
       " 3: array([[0, 1, 2, 3],\n",
       "        [0, 1, 3, 2],\n",
       "        [0, 2, 1, 3],\n",
       "        [0, 2, 3, 1],\n",
       "        [0, 3, 1, 2],\n",
       "        [0, 3, 2, 1]], dtype=int8)}"
      ]
     },
     "execution_count": 10,
     "metadata": {},
     "output_type": "execute_result"
    }
   ],
   "source": [
    "def make_dict_mask_x(eq_x_max):\n",
    "    dict_mask_x = dict()\n",
    "    for i in range(eq_x_max + 1):\n",
    "        __mask_x = nb_permutations(np.arange(1, i + 1), i)  # 第一要素が0にする。\n",
    "        mask_x = np.zeros((__mask_x.shape[0], __mask_x.shape[1] + 1), dtype=\"int8\")\n",
    "        mask_x[:, 1:] = __mask_x  # 第一要素が0にする。\n",
    "        change_x_num = np.array([make_change_x_id(mask_x[k, 1:], i) for k in range(mask_x.shape[0])])\n",
    "        index = np.argsort(change_x_num)\n",
    "        dict_mask_x[i] = mask_x[index].copy()\n",
    "    return dict_mask_x\n",
    "make_dict_mask_x(3)"
   ]
  },
  {
   "cell_type": "code",
   "execution_count": 11,
   "metadata": {},
   "outputs": [
    {
     "name": "stdout",
     "output_type": "stream",
     "text": [
      "0: 0:[0]\n",
      "1: 1:[0 1]\n",
      "2: 2:[0 1 2]\n",
      "2: 3:[0 2 1]\n",
      "3: 4:[0 1 2 3]\n",
      "3: 5:[0 1 3 2]\n",
      "3: 6:[0 2 1 3]\n",
      "3: 7:[0 2 3 1]\n",
      "3: 8:[0 3 1 2]\n",
      "3: 9:[0 3 2 1]\n"
     ]
    }
   ],
   "source": [
    "eq_x_max=3\n",
    "dict_mask_x=make_dict_mask_x(eq_x_max)\n",
    "for i in range(eq_x_max+1):\n",
    "    for j in range(dict_mask_x[i].shape[0]):\n",
    "        print(f\"{i}: {make_change_x_id(dict_mask_x[i][j,1:],i)}:{dict_mask_x[i][j]}\")"
   ]
  },
  {
   "cell_type": "markdown",
   "metadata": {},
   "source": []
  }
 ],
 "metadata": {
  "kernelspec": {
   "display_name": "Env_3.10_for_any",
   "language": "python",
   "name": "python3"
  },
  "language_info": {
   "codemirror_mode": {
    "name": "ipython",
    "version": 3
   },
   "file_extension": ".py",
   "mimetype": "text/x-python",
   "name": "python",
   "nbconvert_exporter": "python",
   "pygments_lexer": "ipython3",
   "version": "3.10.15"
  }
 },
 "nbformat": 4,
 "nbformat_minor": 2
}
