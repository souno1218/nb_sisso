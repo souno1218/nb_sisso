{
 "cells": [
  {
   "cell_type": "code",
   "execution_count": 1,
   "metadata": {},
   "outputs": [
    {
     "name": "stderr",
     "output_type": "stream",
     "text": [
      "2025-04-10 15:20:50,198 : numba=0.61.0, numpy=2.1.3\n",
      "2025-04-10 15:20:50,198 : OPT=_OptLevel(3), THREADING_LAYER=default\n",
      "2025-04-10 15:20:50,198 : USING_SVML=False, ENABLE_AVX=True, DISABLE_JIT=0\n",
      "2025-04-10 15:20:50,199 : SIS\n",
      "2025-04-10 15:20:50,199 : num_threads=8, how_many_to_save=1000, \n",
      "2025-04-10 15:20:50,199 : how_many_to_save_per_1_core=1000, \n",
      "2025-04-10 15:20:50,199 : max_n_op=5, model_score=debug_1d, \n",
      "2025-04-10 15:20:50,199 : x.shape=(6, 40), is_use_1=True\n",
      "2025-04-10 15:20:50,200 : use_binary_op=[-1, -2, -3, -4], \n",
      "2025-04-10 15:20:50,200 : use_unary_op=[]\n",
      "2025-04-10 15:20:50,200 : units=[0] , [0] , [0] , [0] , [0] , [0]\n",
      "2025-04-10 15:20:50,200 : compiling\n",
      "2025-04-10 15:21:07,604 : END, compile\n",
      "2025-04-10 15:21:07,604 :   n_op=1\n",
      "2025-04-10 15:21:07,845 :     binary_op n_op1:n_op2 = 0:0,  loop:196\n",
      "2025-04-10 15:21:07,847 :       time : 0:00:00.001884\n",
      "2025-04-10 15:21:07,847 :     END, time=0:00:00.243266\n",
      "2025-04-10 15:21:07,848 :   n_op=2\n",
      "2025-04-10 15:21:07,848 :     binary_op n_op1:n_op2 = 1:0,  loop:2968\n",
      "2025-04-10 15:21:07,851 :       time : 0:00:00.002897\n",
      "2025-04-10 15:21:07,851 :     binary_op n_op1:n_op2 = 0:1,  loop:742\n",
      "2025-04-10 15:21:07,854 :       time : 0:00:00.002277\n",
      "2025-04-10 15:21:07,854 :     END, time=0:00:00.006351\n",
      "2025-04-10 15:21:07,854 :   n_op=3\n",
      "2025-04-10 15:21:07,854 :     binary_op n_op1:n_op2 = 2:0,  loop:57120\n",
      "2025-04-10 15:21:07,867 :       time : 0:00:00.012259\n",
      "2025-04-10 15:21:07,867 :     binary_op n_op1:n_op2 = 1:1,  loop:44944\n",
      "2025-04-10 15:21:07,875 :       time : 0:00:00.007687\n",
      "2025-04-10 15:21:07,876 :     binary_op n_op1:n_op2 = 0:2,  loop:14280\n",
      "2025-04-10 15:21:07,884 :       time : 0:00:00.007868\n",
      "2025-04-10 15:21:07,884 :     END, time=0:00:00.029972\n",
      "2025-04-10 15:21:07,884 :   n_op=4\n",
      "2025-04-10 15:21:07,885 :     binary_op n_op1:n_op2 = 3:0,  loop:1280720\n",
      "2025-04-10 15:21:08,071 :       time : 0:00:00.186511\n",
      "2025-04-10 15:21:08,072 :     binary_op n_op1:n_op2 = 2:1,  loop:864960\n",
      "2025-04-10 15:21:08,174 :       time : 0:00:00.102142\n",
      "2025-04-10 15:21:08,175 :     binary_op n_op1:n_op2 = 1:2,  loop:216240\n",
      "2025-04-10 15:21:08,257 :       time : 0:00:00.082118\n",
      "2025-04-10 15:21:08,257 :     binary_op n_op1:n_op2 = 0:3,  loop:320180\n",
      "2025-04-10 15:21:08,371 :       time : 0:00:00.113398\n",
      "2025-04-10 15:21:08,372 :     END, time=0:00:00.487106\n",
      "2025-04-10 15:21:08,372 :   n_op=5\n",
      "2025-04-10 15:21:08,372 :     binary_op n_op1:n_op2 = 4:0,  loop:32230856\n",
      "2025-04-10 15:21:12,275 :       time : 0:00:03.903130\n",
      "2025-04-10 15:21:12,276 :     binary_op n_op1:n_op2 = 3:1,  loop:19393760\n",
      "2025-04-10 15:21:13,965 :       time : 0:00:01.688857\n",
      "2025-04-10 15:21:13,965 :     binary_op n_op1:n_op2 = 2:2,  loop:16646400\n",
      "2025-04-10 15:21:15,301 :       time : 0:00:01.335496\n",
      "2025-04-10 15:21:15,302 :     binary_op n_op1:n_op2 = 1:3,  loop:4848440\n",
      "2025-04-10 15:21:16,566 :       time : 0:00:01.264201\n",
      "2025-04-10 15:21:16,566 :     binary_op n_op1:n_op2 = 0:4,  loop:8057714\n",
      "2025-04-10 15:21:18,865 :       time : 0:00:02.298289\n",
      "2025-04-10 15:21:18,865 :     END, time=0:00:10.493589\n",
      "2025-04-10 15:21:18,866 : total time=0:00:11.262121\n"
     ]
    }
   ],
   "source": [
    "from util_for_test import make_unique_eqs, finder, check\n",
    "import numpy as np\n",
    "max_n_op = 5\n",
    "upper = 1.5\n",
    "lower = 0.5\n",
    "len_x = 40\n",
    "how_many_to_save = 1000\n",
    "x = np.random.uniform(lower, upper, (max_n_op + 1, len_x))\n",
    "calced_x, calced_eq, arr_columns = make_unique_eqs(x, max_n_op, how_many_to_save=how_many_to_save, is_print=True, log_interval=120)"
   ]
  },
  {
   "cell_type": "code",
   "execution_count": null,
   "metadata": {},
   "outputs": [
    {
     "name": "stderr",
     "output_type": "stream",
     "text": [
      "2025-04-10 10:09:37,036 : numba=0.61.0, numpy=2.1.3\n",
      "2025-04-10 10:09:37,036 : OPT=_OptLevel(3), THREADING_LAYER=default\n",
      "2025-04-10 10:09:37,036 : USING_SVML=False, ENABLE_AVX=True, DISABLE_JIT=0\n",
      "2025-04-10 10:09:37,037 : SIS\n",
      "2025-04-10 10:09:37,037 : num_threads=8, how_many_to_save=500000, \n",
      "2025-04-10 10:09:37,037 : how_many_to_save_per_1_core=63814, \n",
      "2025-04-10 10:09:37,037 : max_n_op=4, model_score=debug_1d, \n",
      "2025-04-10 10:09:37,037 : x.shape=(5, 40), is_use_1=True\n",
      "2025-04-10 10:09:37,038 : use_binary_op=[-1, -2, -3, -4], \n",
      "2025-04-10 10:09:37,038 : use_unary_op=[]\n",
      "2025-04-10 10:09:37,038 : units=[0] , [0] , [0] , [0] , [0]\n",
      "2025-04-10 10:09:37,038 : compiling\n"
     ]
    }
   ],
   "source": [
    "from util_for_test import make_unique_eqs, finder, check\n",
    "import numpy as np\n",
    "max_n_op = 4\n",
    "upper = 1.5\n",
    "lower = 0.5\n",
    "len_x = 40\n",
    "how_many_to_save = 500000\n",
    "x = np.random.uniform(lower, upper, (max_n_op + 1, len_x))\n",
    "calced_x, calced_eq, arr_columns = make_unique_eqs(x, max_n_op, how_many_to_save=how_many_to_save, is_print=True, log_interval=120)"
   ]
  },
  {
   "cell_type": "code",
   "execution_count": 2,
   "metadata": {},
   "outputs": [
    {
     "data": {
      "text/plain": [
       "(418697, 9)"
      ]
     },
     "execution_count": 2,
     "metadata": {},
     "output_type": "execute_result"
    }
   ],
   "source": [
    "calced_eq.shape"
   ]
  },
  {
   "cell_type": "code",
   "execution_count": 2,
   "metadata": {},
   "outputs": [
    {
     "name": "stdout",
     "output_type": "stream",
     "text": [
      "finding : \n",
      "same :  [ 1  2  3 -4  4 -3  1 -2 -4]\n",
      "done : make random_x\n"
     ]
    }
   ],
   "source": [
    "target_eq = np.array([1,2,3,-4,4,-3,1,-2,-4])\n",
    "finder(target_eq, x=x, calced_x=calced_x, calced_eq=calced_eq)"
   ]
  },
  {
   "cell_type": "code",
   "execution_count": 3,
   "metadata": {},
   "outputs": [
    {
     "name": "stdout",
     "output_type": "stream",
     "text": [
      "many calc :  2 [   1    1    5   -1    4   -3   -3 -100 -100]\n",
      "[ 4  4 -1  1  5 -1 -3  1 -3]\n",
      "[   1    5   -1    4   -3    1   -3 -100 -100]\n"
     ]
    },
    {
     "data": {
      "text/plain": [
       "False"
      ]
     },
     "execution_count": 3,
     "metadata": {},
     "output_type": "execute_result"
    }
   ],
   "source": [
    "n_random = 1000000\n",
    "find = [\"not_calced\", \"many_calc\"]# [\"not_calced\"]\n",
    "check(n_random, x, calced_x, calced_eq, find, log_interval=5)"
   ]
  },
  {
   "cell_type": "code",
   "execution_count": null,
   "metadata": {},
   "outputs": [],
   "source": [
    "from util_for_test import finder\n",
    "import numpy as np\n",
    "target_eq = np.array([1, 1, -3, 2, -4, 2, -2])\n",
    "finder(target_eq)"
   ]
  },
  {
   "cell_type": "code",
   "execution_count": null,
   "metadata": {},
   "outputs": [],
   "source": [
    "[ 1  2  2 -3  1 -4  1 -2 -4]"
   ]
  },
  {
   "cell_type": "code",
   "execution_count": null,
   "metadata": {},
   "outputs": [],
   "source": [
    "not calced :  [ 2  2  4  1  5 -4 -3 -2 -4] 0.09279815643807351\n",
    "not calced :  [ 5  5  3  4  2 -4 -3 -1 -4] 1.622520828752577\n",
    "not calced :  [ 4  5  1 -3  2 -4  4 -2 -4] 0.05453123325323784\n",
    "not calced :  [ 5  5  1  4  2 -4 -3 -2 -4] 0.157141080172706\n",
    "not calced :  [ 5  5  4  2  1 -4 -3 -2 -4] 0.05453123325323879\n",
    "not calced :  [ 5  5  1  5 -4  1 -3 -1 -4] 1.5912550351971864\n",
    "not calced :  [ 3  2  1 -4  5 -3  3 -2 -4] 0.1057777231470847\n",
    "not calced :  [ 3  4  4 -3  3 -4  3 -2 -4] 0.0704404922652119\n",
    "not calced :  [ 4  4  3  1 -4  2 -3 -1 -4] 0.8468567934189181"
   ]
  },
  {
   "cell_type": "code",
   "execution_count": null,
   "metadata": {},
   "outputs": [],
   "source": [
    "from numba import njit, prange\n",
    "import numpy as np\n",
    "\n",
    "@njit(parallel=True, error_model=\"numpy\")\n",
    "def check_multi_or(arr_len, num_threads=8):\n",
    "    save = np.zeros(arr_len, dtype=\"bool\")\n",
    "    a = np.zeros((num_threads, arr_len), dtype=\"bool\")\n",
    "    for thread_id in prange(num_threads):\n",
    "        indexes = np.random.permutation(np.arange(arr_len))[:arr_len//num_threads]\n",
    "        for i in indexes:\n",
    "            a[thread_id, i] = True\n",
    "            save[i] = True\n",
    "    b = np.zeros(arr_len, dtype=\"bool\")\n",
    "    for thread_id in range(num_threads):\n",
    "        b|=a[thread_id]\n",
    "    return np.all(save == b)\n",
    "check_multi_or(1000000, num_threads=18)"
   ]
  },
  {
   "cell_type": "code",
   "execution_count": null,
   "metadata": {},
   "outputs": [],
   "source": [
    "from numba import njit, prange\n",
    "import numpy as np\n",
    "\n",
    "@njit(parallel=True, error_model=\"numpy\")\n",
    "def check_multi_plus(arr_len, num_threads=8):\n",
    "    save = np.zeros(arr_len, dtype=\"int64\")\n",
    "    a = np.zeros((num_threads, arr_len), dtype=\"int64\")\n",
    "    for thread_id in prange(num_threads):\n",
    "        indexes = np.random.permutation(np.arange(arr_len))[:arr_len//num_threads + 1]\n",
    "        for i in indexes:\n",
    "            a[thread_id, i] += 1\n",
    "            save[i] += 1\n",
    "    b = np.zeros(arr_len, dtype=\"int64\")\n",
    "    for thread_id in range(num_threads):\n",
    "        b+=a[thread_id]\n",
    "    #return np.all(save == b)\n",
    "    return save, b, np.all(save == b)\n",
    "check_multi_plus(100, num_threads=18)"
   ]
  },
  {
   "cell_type": "code",
   "execution_count": null,
   "metadata": {},
   "outputs": [],
   "source": []
  }
 ],
 "metadata": {
  "kernelspec": {
   "display_name": "Env_3.10_for_any",
   "language": "python",
   "name": "python3"
  },
  "language_info": {
   "codemirror_mode": {
    "name": "ipython",
    "version": 3
   },
   "file_extension": ".py",
   "mimetype": "text/x-python",
   "name": "python",
   "nbconvert_exporter": "python",
   "pygments_lexer": "ipython3",
   "version": "3.10.15"
  }
 },
 "nbformat": 4,
 "nbformat_minor": 2
}
