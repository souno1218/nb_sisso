{
 "cells": [
  {
   "cell_type": "code",
   "execution_count": null,
   "metadata": {},
   "outputs": [
    {
     "name": "stderr",
     "output_type": "stream",
     "text": [
      "2025-03-28 04:00:57,971 : numba=0.60.0, numpy=2.0.2\n",
      "2025-03-28 04:00:57,972 : OPT=_OptLevel(3), THREADING_LAYER=default\n",
      "2025-03-28 04:00:57,972 : USING_SVML=False, ENABLE_AVX=True, DISABLE_JIT=0\n",
      "2025-03-28 04:00:57,972 : SIS\n",
      "2025-03-28 04:00:57,972 : num_threads=8, how_many_to_save=500, \n",
      "2025-03-28 04:00:57,973 : how_many_to_save_per_1_core=500, \n",
      "2025-03-28 04:00:57,973 : max_n_op=6, model_score=debug_1d, \n",
      "2025-03-28 04:00:57,973 : x.shape=(7, 40), is_use_1=True\n",
      "2025-03-28 04:00:57,973 : use_binary_op=[-1, -2, -3, -4], \n",
      "2025-03-28 04:00:57,974 : use_unary_op=[]\n",
      "2025-03-28 04:00:57,974 : units=[0] , [0] , [0] , [0] , [0] , [0] , [0]\n",
      "2025-03-28 04:00:57,974 : compiling\n",
      "2025-03-28 04:01:13,233 : END, compile\n",
      "2025-03-28 04:01:13,233 :   n_op=1\n",
      "2025-03-28 04:01:13,478 :     binary_op n_op1:n_op2 = 0:0,  loop:256\n",
      "2025-03-28 04:01:13,480 :       time : 0:00:00.001908\n",
      "2025-03-28 04:01:13,480 :     END, time=0:00:00.246686\n",
      "2025-03-28 04:01:13,480 :   n_op=2\n",
      "2025-03-28 04:01:13,480 :     binary_op n_op1:n_op2 = 1:0,  loop:4512\n",
      "2025-03-28 04:01:13,484 :       time : 0:00:00.002861\n",
      "2025-03-28 04:01:13,484 :     binary_op n_op1:n_op2 = 0:1,  loop:1128\n",
      "2025-03-28 04:01:13,486 :       time : 0:00:00.002227\n",
      "2025-03-28 04:01:13,486 :     END, time=0:00:00.006107\n",
      "2025-03-28 04:01:13,487 :   n_op=3\n",
      "2025-03-28 04:01:13,487 :     binary_op n_op1:n_op2 = 2:0,  loop:100864\n",
      "2025-03-28 04:01:13,507 :       time : 0:00:00.019551\n",
      "2025-03-28 04:01:13,507 :     binary_op n_op1:n_op2 = 1:1,  loop:79524\n",
      "2025-03-28 04:01:13,517 :       time : 0:00:00.010099\n",
      "2025-03-28 04:01:13,518 :     binary_op n_op1:n_op2 = 0:2,  loop:25216\n",
      "2025-03-28 04:01:13,530 :       time : 0:00:00.012038\n",
      "2025-03-28 04:01:13,531 :     END, time=0:00:00.044039\n",
      "2025-03-28 04:01:13,531 :   n_op=4\n",
      "2025-03-28 04:01:13,531 :     binary_op n_op1:n_op2 = 3:0,  loop:2647104\n",
      "2025-03-28 04:01:13,917 :       time : 0:00:00.385394\n",
      "2025-03-28 04:01:13,917 :     binary_op n_op1:n_op2 = 2:1,  loop:1777728\n",
      "2025-03-28 04:01:14,121 :       time : 0:00:00.203803\n",
      "2025-03-28 04:01:14,122 :     binary_op n_op1:n_op2 = 1:2,  loop:444432\n",
      "2025-03-28 04:01:14,297 :       time : 0:00:00.174513\n",
      "2025-03-28 04:01:14,297 :     binary_op n_op1:n_op2 = 0:3,  loop:661776\n",
      "2025-03-28 04:01:14,531 :       time : 0:00:00.233280\n",
      "2025-03-28 04:01:14,531 :     END, time=0:00:01.000218\n",
      "2025-03-28 04:01:14,531 :   n_op=5\n",
      "2025-03-28 04:01:14,531 :     binary_op n_op1:n_op2 = 4:0,  loop:77953088\n",
      "2025-03-28 04:01:29,794 :       time : 0:00:15.261675\n",
      "2025-03-28 04:01:29,796 :     binary_op n_op1:n_op2 = 3:1,  loop:46655208\n",
      "2025-03-28 04:01:35,783 :       time : 0:00:05.986460\n",
      "2025-03-28 04:01:35,784 :     binary_op n_op1:n_op2 = 2:2,  loop:39740416\n",
      "2025-03-28 04:01:40,937 :       time : 0:00:05.153441\n",
      "2025-03-28 04:01:40,938 :     binary_op n_op1:n_op2 = 1:3,  loop:11663802\n",
      "2025-03-28 04:01:45,974 :       time : 0:00:05.035750\n",
      "2025-03-28 04:01:45,974 :     binary_op n_op1:n_op2 = 0:4,  loop:19488272\n",
      "2025-03-28 04:01:54,453 :       time : 0:00:08.478879\n",
      "2025-03-28 04:01:54,454 :     END, time=0:00:39.923010\n",
      "2025-03-28 04:01:54,455 :   n_op=6\n",
      "2025-03-28 04:01:54,455 :     binary_op n_op1:n_op2 = 5:0,  loop:2462235232\n",
      "2025-03-28 04:03:54,464 :        843968480/2462235232  0:02:00.006168 : 0:03:50.105740\n",
      "2025-03-28 04:05:54,454 :       1526019115/2462235232  0:03:59.998183 : 0:02:27.239418\n"
     ]
    }
   ],
   "source": [
    "from util_for_test import make_unique_eqs, finder, check\n",
    "import numpy as np\n",
    "max_n_op = 6\n",
    "upper = 1.5\n",
    "lower = 0.5\n",
    "len_x = 40\n",
    "how_many_to_save = 500\n",
    "x = np.random.uniform(lower, upper, (max_n_op + 1, len_x))\n",
    "calced_x, calced_eq, arr_columns = make_unique_eqs(x, max_n_op, how_many_to_save=how_many_to_save, is_print=True, log_interval=120)"
   ]
  },
  {
   "cell_type": "code",
   "execution_count": 2,
   "metadata": {},
   "outputs": [
    {
     "name": "stdout",
     "output_type": "stream",
     "text": [
      "doing : make calced_x\n",
      "done : make calced_x\n",
      "finding : \n",
      "same :  [ 1  2  4 -3  3 -4  1 -2 -4]\n",
      "done : make random_x\n"
     ]
    }
   ],
   "source": [
    "target_eq = np.array([1,2,3,-4,4,-3,1,-2,-4])\n",
    "finder(target_eq)"
   ]
  },
  {
   "cell_type": "code",
   "execution_count": 5,
   "metadata": {},
   "outputs": [
    {
     "name": "stderr",
     "output_type": "stream",
     "text": [
      "2025-03-27 22:04:33,954 :  149111/1000000  0:00:05.005290 : 0:00:28.562254\n",
      "2025-03-27 22:04:38,959 :  288348/1000000  0:00:10.010213 : 0:00:24.705523\n",
      "2025-03-27 22:04:43,964 :  428390/1000000  0:00:15.015605 : 0:00:20.035645\n",
      "2025-03-27 22:04:48,968 :  563632/1000000  0:00:20.019023 : 0:00:15.498873\n",
      "2025-03-27 22:04:53,973 :  703057/1000000  0:00:25.024543 : 0:00:10.569360\n",
      "2025-03-27 22:04:58,979 :  841685/1000000  0:00:30.029974 : 0:00:05.648426\n",
      "2025-03-27 22:05:03,984 :  980389/1000000  0:00:35.035372 : 0:00:00.700823\n"
     ]
    },
    {
     "data": {
      "text/plain": [
       "True"
      ]
     },
     "execution_count": 5,
     "metadata": {},
     "output_type": "execute_result"
    }
   ],
   "source": [
    "n_random = 1000000\n",
    "find = [\"not_calced\", \"many_calc\"]# [\"not_calced\"]\n",
    "check(n_random, x, calced_x, calced_eq, find, log_interval=5)"
   ]
  },
  {
   "cell_type": "code",
   "execution_count": null,
   "metadata": {},
   "outputs": [],
   "source": [
    "from util_for_test import finder\n",
    "import numpy as np\n",
    "target_eq = np.array([1, 1, -3, 2, -4, 2, -2])\n",
    "finder(target_eq)"
   ]
  },
  {
   "cell_type": "code",
   "execution_count": null,
   "metadata": {},
   "outputs": [],
   "source": [
    "[ 1  2  2 -3  1 -4  1 -2 -4]"
   ]
  },
  {
   "cell_type": "code",
   "execution_count": null,
   "metadata": {},
   "outputs": [],
   "source": [
    "not calced :  [ 2  2  4  1  5 -4 -3 -2 -4] 0.09279815643807351\n",
    "not calced :  [ 5  5  3  4  2 -4 -3 -1 -4] 1.622520828752577\n",
    "not calced :  [ 4  5  1 -3  2 -4  4 -2 -4] 0.05453123325323784\n",
    "not calced :  [ 5  5  1  4  2 -4 -3 -2 -4] 0.157141080172706\n",
    "not calced :  [ 5  5  4  2  1 -4 -3 -2 -4] 0.05453123325323879\n",
    "not calced :  [ 5  5  1  5 -4  1 -3 -1 -4] 1.5912550351971864\n",
    "not calced :  [ 3  2  1 -4  5 -3  3 -2 -4] 0.1057777231470847\n",
    "not calced :  [ 3  4  4 -3  3 -4  3 -2 -4] 0.0704404922652119\n",
    "not calced :  [ 4  4  3  1 -4  2 -3 -1 -4] 0.8468567934189181"
   ]
  },
  {
   "cell_type": "code",
   "execution_count": null,
   "metadata": {},
   "outputs": [],
   "source": [
    "from numba import njit, prange\n",
    "import numpy as np\n",
    "\n",
    "@njit(parallel=True, error_model=\"numpy\")\n",
    "def check_multi_or(arr_len, num_threads=8):\n",
    "    save = np.zeros(arr_len, dtype=\"bool\")\n",
    "    a = np.zeros((num_threads, arr_len), dtype=\"bool\")\n",
    "    for thread_id in prange(num_threads):\n",
    "        indexes = np.random.permutation(np.arange(arr_len))[:arr_len//num_threads]\n",
    "        for i in indexes:\n",
    "            a[thread_id, i] = True\n",
    "            save[i] = True\n",
    "    b = np.zeros(arr_len, dtype=\"bool\")\n",
    "    for thread_id in range(num_threads):\n",
    "        b|=a[thread_id]\n",
    "    return np.all(save == b)\n",
    "check_multi_or(1000000, num_threads=18)"
   ]
  },
  {
   "cell_type": "code",
   "execution_count": null,
   "metadata": {},
   "outputs": [],
   "source": [
    "from numba import njit, prange\n",
    "import numpy as np\n",
    "\n",
    "@njit(parallel=True, error_model=\"numpy\")\n",
    "def check_multi_plus(arr_len, num_threads=8):\n",
    "    save = np.zeros(arr_len, dtype=\"int64\")\n",
    "    a = np.zeros((num_threads, arr_len), dtype=\"int64\")\n",
    "    for thread_id in prange(num_threads):\n",
    "        indexes = np.random.permutation(np.arange(arr_len))[:arr_len//num_threads + 1]\n",
    "        for i in indexes:\n",
    "            a[thread_id, i] += 1\n",
    "            save[i] += 1\n",
    "    b = np.zeros(arr_len, dtype=\"int64\")\n",
    "    for thread_id in range(num_threads):\n",
    "        b+=a[thread_id]\n",
    "    #return np.all(save == b)\n",
    "    return save, b, np.all(save == b)\n",
    "check_multi_plus(100, num_threads=18)"
   ]
  },
  {
   "cell_type": "code",
   "execution_count": null,
   "metadata": {},
   "outputs": [],
   "source": []
  }
 ],
 "metadata": {
  "kernelspec": {
   "display_name": "Env_3.10_for_any",
   "language": "python",
   "name": "python3"
  },
  "language_info": {
   "codemirror_mode": {
    "name": "ipython",
    "version": 3
   },
   "file_extension": ".py",
   "mimetype": "text/x-python",
   "name": "python",
   "nbconvert_exporter": "python",
   "pygments_lexer": "ipython3",
   "version": "3.10.15"
  }
 },
 "nbformat": 4,
 "nbformat_minor": 2
}
