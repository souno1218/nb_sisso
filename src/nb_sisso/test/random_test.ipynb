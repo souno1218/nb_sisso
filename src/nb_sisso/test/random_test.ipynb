{
 "cells": [
  {
   "cell_type": "code",
   "execution_count": 13,
   "metadata": {},
   "outputs": [
    {
     "name": "stderr",
     "output_type": "stream",
     "text": [
      "2025-05-20 01:59:39,710 : numba=0.61.2, numpy=2.2.4\n",
      "2025-05-20 01:59:39,710 : OPT=_OptLevel(3), THREADING_LAYER=default\n",
      "2025-05-20 01:59:39,710 : USING_SVML=False, ENABLE_AVX=True, DISABLE_JIT=0\n",
      "2025-05-20 01:59:39,711 : SIS\n",
      "2025-05-20 01:59:39,711 : num_threads=8, how_many_to_save=500000, \n",
      "2025-05-20 01:59:39,711 : how_many_to_save_per_1_core=63814, \n",
      "2025-05-20 01:59:39,711 : max_n_op=4, model_score=debug_1d, \n",
      "2025-05-20 01:59:39,712 : x.shape=(5, 40), is_use_1=True\n",
      "2025-05-20 01:59:39,712 : use_binary_op=[-1, -2, -3, -4], \n",
      "2025-05-20 01:59:39,712 : use_unary_op=[]\n",
      "2025-05-20 01:59:39,712 : units=[0] , [0] , [0] , [0] , [0]\n",
      "2025-05-20 01:59:39,713 : compiling\n",
      "2025-05-20 01:59:39,722 : END, compile\n",
      "2025-05-20 01:59:39,731 :   n_op=1\n",
      "2025-05-20 01:59:39,736 :     binary_op n_op1:n_op2 = 0:0,  loop:144\n",
      "2025-05-20 01:59:39,763 :       time : 0:00:00.023009\n",
      "2025-05-20 01:59:39,763 :     END, time=0:00:00.032163\n",
      "2025-05-20 01:59:39,763 :   n_op=2\n",
      "2025-05-20 01:59:39,764 :     binary_op n_op1:n_op2 = 1:0,  loop:1824\n",
      "2025-05-20 01:59:39,788 :       time : 0:00:00.024245\n",
      "2025-05-20 01:59:39,789 :     binary_op n_op1:n_op2 = 0:1,  loop:456\n",
      "2025-05-20 01:59:39,806 :       time : 0:00:00.016506\n",
      "2025-05-20 01:59:39,806 :     END, time=0:00:00.042510\n",
      "2025-05-20 01:59:39,806 :   n_op=3\n",
      "2025-05-20 01:59:39,806 :     binary_op n_op1:n_op2 = 2:0,  loop:29448\n",
      "2025-05-20 01:59:39,939 :       time : 0:00:00.132078\n",
      "2025-05-20 01:59:39,939 :     binary_op n_op1:n_op2 = 1:1,  loop:23104\n",
      "2025-05-20 01:59:39,976 :       time : 0:00:00.036391\n",
      "2025-05-20 01:59:39,976 :     binary_op n_op1:n_op2 = 0:2,  loop:7362\n",
      "2025-05-20 01:59:40,024 :       time : 0:00:00.048097\n",
      "2025-05-20 01:59:40,025 :     END, time=0:00:00.218712\n",
      "2025-05-20 01:59:40,025 :   n_op=4\n",
      "2025-05-20 01:59:40,025 :     binary_op n_op1:n_op2 = 3:0,  loop:548472\n",
      "2025-05-20 01:59:42,308 :       time : 0:00:02.282114\n",
      "2025-05-20 01:59:42,308 :     binary_op n_op1:n_op2 = 2:1,  loop:373008\n",
      "2025-05-20 01:59:42,807 :       time : 0:00:00.498945\n",
      "2025-05-20 01:59:42,808 :     binary_op n_op1:n_op2 = 1:2,  loop:93252\n",
      "2025-05-20 01:59:42,981 :       time : 0:00:00.173141\n",
      "2025-05-20 01:59:42,982 :     binary_op n_op1:n_op2 = 0:3,  loop:137118\n",
      "2025-05-20 01:59:43,420 :       time : 0:00:00.438193\n",
      "2025-05-20 01:59:43,421 :     END, time=0:00:03.395712\n",
      "2025-05-20 01:59:43,473 : total time=0:00:03.741916\n"
     ]
    }
   ],
   "source": [
    "from util_for_test import make_unique_eqs, finder, check\n",
    "import numpy as np\n",
    "max_n_op = 4\n",
    "upper = 1.5\n",
    "lower = 0.5\n",
    "len_x = 40\n",
    "how_many_to_save = 500000\n",
    "x = np.random.uniform(lower, upper, (max_n_op + 1, len_x))\n",
    "calced_x, calced_eq, arr_columns = make_unique_eqs(x, max_n_op, how_many_to_save=how_many_to_save, is_print=True, log_interval=120)"
   ]
  },
  {
   "cell_type": "code",
   "execution_count": null,
   "metadata": {},
   "outputs": [
    {
     "name": "stderr",
     "output_type": "stream",
     "text": [
      "2025-04-10 10:09:37,036 : numba=0.61.0, numpy=2.1.3\n",
      "2025-04-10 10:09:37,036 : OPT=_OptLevel(3), THREADING_LAYER=default\n",
      "2025-04-10 10:09:37,036 : USING_SVML=False, ENABLE_AVX=True, DISABLE_JIT=0\n",
      "2025-04-10 10:09:37,037 : SIS\n",
      "2025-04-10 10:09:37,037 : num_threads=8, how_many_to_save=500000, \n",
      "2025-04-10 10:09:37,037 : how_many_to_save_per_1_core=63814, \n",
      "2025-04-10 10:09:37,037 : max_n_op=4, model_score=debug_1d, \n",
      "2025-04-10 10:09:37,037 : x.shape=(5, 40), is_use_1=True\n",
      "2025-04-10 10:09:37,038 : use_binary_op=[-1, -2, -3, -4], \n",
      "2025-04-10 10:09:37,038 : use_unary_op=[]\n",
      "2025-04-10 10:09:37,038 : units=[0] , [0] , [0] , [0] , [0]\n",
      "2025-04-10 10:09:37,038 : compiling\n"
     ]
    }
   ],
   "source": [
    "from util_for_test import make_unique_eqs, finder, check\n",
    "import numpy as np\n",
    "max_n_op = 4\n",
    "upper = 1.5\n",
    "lower = 0.5\n",
    "len_x = 40\n",
    "how_many_to_save = 500000\n",
    "x = np.random.uniform(lower, upper, (max_n_op + 1, len_x))\n",
    "calced_x, calced_eq, arr_columns = make_unique_eqs(x, max_n_op, how_many_to_save=how_many_to_save, is_print=True, log_interval=120)"
   ]
  },
  {
   "cell_type": "code",
   "execution_count": 14,
   "metadata": {},
   "outputs": [
    {
     "data": {
      "text/plain": [
       "(414872, 9)"
      ]
     },
     "execution_count": 14,
     "metadata": {},
     "output_type": "execute_result"
    }
   ],
   "source": [
    "calced_eq.shape\n",
    "## how_many_to_save -> 1 : 11, 2 : 236, 3 : 8147, 4 : 414872, 5 : 27963924"
   ]
  },
  {
   "cell_type": "code",
   "execution_count": 15,
   "metadata": {},
   "outputs": [
    {
     "name": "stdout",
     "output_type": "stream",
     "text": [
      "finding : \n",
      "same :  [ 1  2  4 -3  3 -4  1 -2 -4]\n",
      "done : make random_x\n"
     ]
    }
   ],
   "source": [
    "target_eq = np.array([1,2,3,-4,4,-3,1,-2,-4])\n",
    "finder(target_eq, x=x, calced_x=calced_x, calced_eq=calced_eq)"
   ]
  },
  {
   "cell_type": "code",
   "execution_count": 16,
   "metadata": {},
   "outputs": [
    {
     "name": "stderr",
     "output_type": "stream",
     "text": [
      "2025-05-20 01:59:58,237 :   24006/1000000  (498.2 MB)  0:00:05.005077 : 0:03:23.487675\n",
      "2025-05-20 02:00:03,242 :   46809/1000000  (498.2 MB)  0:00:10.010073 : 0:03:23.839251\n",
      "2025-05-20 02:00:08,247 :   69557/1000000  (498.2 MB)  0:00:15.015502 : 0:03:20.857839\n",
      "2025-05-20 02:00:13,253 :   92704/1000000  (498.2 MB)  0:00:20.020912 : 0:03:15.945087\n",
      "2025-05-20 02:00:18,258 :  116559/1000000  (498.2 MB)  0:00:25.026418 : 0:03:09.683883\n",
      "2025-05-20 02:00:23,264 :  140488/1000000  (498.2 MB)  0:00:30.031847 : 0:03:03.736211\n",
      "2025-05-20 02:00:28,269 :  164498/1000000  (498.2 MB)  0:00:35.037281 : 0:02:57.957898\n",
      "2025-05-20 02:00:33,275 :  188283/1000000  (498.2 MB)  0:00:40.042722 : 0:02:52.630339\n",
      "2025-05-20 02:00:38,280 :  211378/1000000  (498.2 MB)  0:00:45.048151 : 0:02:48.068403\n",
      "2025-05-20 02:00:43,286 :  235442/1000000  (498.2 MB)  0:00:50.053619 : 0:02:42.540646\n",
      "2025-05-20 02:00:48,291 :  259217/1000000  (498.2 MB)  0:00:55.059045 : 0:02:37.346179\n",
      "2025-05-20 02:00:53,297 :  283167/1000000  (498.2 MB)  0:01:00.064546 : 0:02:32.052494\n",
      "2025-05-20 02:00:58,302 :  307171/1000000  (498.2 MB)  0:01:05.070003 : 0:02:26.766411\n",
      "2025-05-20 02:01:03,308 :  330422/1000000  (498.2 MB)  0:01:10.075569 : 0:02:22.003436\n",
      "2025-05-20 02:01:08,313 :  354474/1000000  (498.2 MB)  0:01:15.080566 : 0:02:16.727821\n",
      "2025-05-20 02:01:13,317 :  377981/1000000  (498.2 MB)  0:01:20.085259 : 0:02:11.791155\n",
      "2025-05-20 02:01:18,323 :  401772/1000000  (498.2 MB)  0:01:25.090808 : 0:02:06.697988\n",
      "2025-05-20 02:01:23,327 :  425730/1000000  (498.2 MB)  0:01:30.094652 : 0:02:01.529269\n",
      "2025-05-20 02:01:28,331 :  449806/1000000  (498.2 MB)  0:01:35.099326 : 0:01:56.323656\n",
      "2025-05-20 02:01:33,337 :  473666/1000000  (498.2 MB)  0:01:40.104812 : 0:01:51.235694\n",
      "2025-05-20 02:01:38,342 :  497530/1000000  (498.2 MB)  0:01:45.110270 : 0:01:46.153915\n",
      "2025-05-20 02:01:43,346 :  521183/1000000  (498.1 MB)  0:01:50.113886 : 0:01:41.162932\n",
      "2025-05-20 02:01:48,350 :  545007/1000000  (477.6 MB)  0:01:55.118064 : 0:01:36.105029\n",
      "2025-05-20 02:01:53,355 :  568811/1000000  (470.5 MB)  0:02:00.123195 : 0:01:31.059773\n",
      "2025-05-20 02:01:58,361 :  592945/1000000  (470.5 MB)  0:02:05.128679 : 0:01:25.900470\n",
      "2025-05-20 02:02:03,364 :  616525/1000000  (469.0 MB)  0:02:10.132033 : 0:01:20.941375\n",
      "2025-05-20 02:02:08,370 :  640347/1000000  (438.1 MB)  0:02:15.137546 : 0:01:15.900447\n",
      "2025-05-20 02:02:13,373 :  664438/1000000  (437.5 MB)  0:02:20.141337 : 0:01:10.775764\n",
      "2025-05-20 02:02:18,379 :  688556/1000000  (437.5 MB)  0:02:25.146482 : 0:01:05.651887\n",
      "2025-05-20 02:02:23,383 :  711973/1000000  (430.4 MB)  0:02:30.151142 : 0:01:00.743291\n",
      "2025-05-20 02:02:28,389 :  735893/1000000  (430.4 MB)  0:02:35.156600 : 0:00:55.684650\n",
      "2025-05-20 02:02:33,394 :  759886/1000000  (430.4 MB)  0:02:40.162108 : 0:00:50.609123\n",
      "2025-05-20 02:02:38,397 :  783891/1000000  (430.4 MB)  0:02:45.164587 : 0:00:45.533823\n",
      "2025-05-20 02:02:43,402 :  808073/1000000  (430.4 MB)  0:02:50.169795 : 0:00:40.417361\n",
      "2025-05-20 02:02:48,406 :  831638/1000000  (430.4 MB)  0:02:55.173866 : 0:00:35.463293\n",
      "2025-05-20 02:02:53,411 :  855660/1000000  (430.4 MB)  0:03:00.178465 : 0:00:30.394035\n",
      "2025-05-20 02:02:58,415 :  879707/1000000  (430.4 MB)  0:03:05.183180 : 0:00:25.322341\n",
      "2025-05-20 02:03:03,421 :  903847/1000000  (430.4 MB)  0:03:10.188684 : 0:00:20.232642\n",
      "2025-05-20 02:03:08,424 :  926780/1000000  (425.8 MB)  0:03:15.192395 : 0:00:15.421122\n",
      "2025-05-20 02:03:13,430 :  949692/1000000  (425.8 MB)  0:03:20.197924 : 0:00:10.605077\n",
      "2025-05-20 02:03:18,435 :  973258/1000000  (425.8 MB)  0:03:25.202993 : 0:00:05.638318\n",
      "2025-05-20 02:03:23,439 :  997174/1000000  (425.8 MB)  0:03:30.207396 : 0:00:00.595730\n"
     ]
    },
    {
     "data": {
      "text/plain": [
       "True"
      ]
     },
     "execution_count": 16,
     "metadata": {},
     "output_type": "execute_result"
    }
   ],
   "source": [
    "n_random = 1000000\n",
    "find = [\"not_calced\", \"many_calc\"]# [\"not_calced\"]\n",
    "check(n_random, x, calced_x, calced_eq, find, log_interval=5)"
   ]
  },
  {
   "cell_type": "code",
   "execution_count": null,
   "metadata": {},
   "outputs": [],
   "source": [
    "many calc :  2 [ 5  3  0 -2  5  3 -2 -4 -3]\n",
    "[ 0  5 -2  5  3 -4  0 -2 -4]\n",
    "[ 0  3 -2  3  5 -4  0 -2 -4]"
   ]
  },
  {
   "cell_type": "code",
   "execution_count": 8,
   "metadata": {},
   "outputs": [
    {
     "name": "stdout",
     "output_type": "stream",
     "text": [
      "doing : make calced_x\n",
      "done : make calced_x\n",
      "finding : \n",
      "same :  [ 3  4 -1  1 -2  2  4 -1 -4]\n",
      "done : make random_x\n"
     ]
    }
   ],
   "source": [
    "from util_for_test import finder\n",
    "import numpy as np\n",
    "target_eq = np.array([1, 2, -1, 3, -2, 4, 2, -1, -4])\n",
    "finder(target_eq)"
   ]
  },
  {
   "cell_type": "code",
   "execution_count": null,
   "metadata": {},
   "outputs": [],
   "source": [
    "[ 1  2  2 -3  1 -4  1 -2 -4]"
   ]
  },
  {
   "cell_type": "code",
   "execution_count": null,
   "metadata": {},
   "outputs": [],
   "source": [
    "not calced :  [ 2  2  4  1  5 -4 -3 -2 -4] 0.09279815643807351\n",
    "not calced :  [ 5  5  3  4  2 -4 -3 -1 -4] 1.622520828752577\n",
    "not calced :  [ 4  5  1 -3  2 -4  4 -2 -4] 0.05453123325323784\n",
    "not calced :  [ 5  5  1  4  2 -4 -3 -2 -4] 0.157141080172706\n",
    "not calced :  [ 5  5  4  2  1 -4 -3 -2 -4] 0.05453123325323879\n",
    "not calced :  [ 5  5  1  5 -4  1 -3 -1 -4] 1.5912550351971864\n",
    "not calced :  [ 3  2  1 -4  5 -3  3 -2 -4] 0.1057777231470847\n",
    "not calced :  [ 3  4  4 -3  3 -4  3 -2 -4] 0.0704404922652119\n",
    "not calced :  [ 4  4  3  1 -4  2 -3 -1 -4] 0.8468567934189181"
   ]
  },
  {
   "cell_type": "code",
   "execution_count": null,
   "metadata": {},
   "outputs": [],
   "source": [
    "from numba import njit, prange\n",
    "import numpy as np\n",
    "\n",
    "@njit(parallel=True, error_model=\"numpy\")\n",
    "def check_multi_or(arr_len, num_threads=8):\n",
    "    save = np.zeros(arr_len, dtype=\"bool\")\n",
    "    a = np.zeros((num_threads, arr_len), dtype=\"bool\")\n",
    "    for thread_id in prange(num_threads):\n",
    "        indexes = np.random.permutation(np.arange(arr_len))[:arr_len//num_threads]\n",
    "        for i in indexes:\n",
    "            a[thread_id, i] = True\n",
    "            save[i] = True\n",
    "    b = np.zeros(arr_len, dtype=\"bool\")\n",
    "    for thread_id in range(num_threads):\n",
    "        b|=a[thread_id]\n",
    "    return np.all(save == b)\n",
    "check_multi_or(1000000, num_threads=18)"
   ]
  },
  {
   "cell_type": "code",
   "execution_count": null,
   "metadata": {},
   "outputs": [],
   "source": [
    "from numba import njit, prange\n",
    "import numpy as np\n",
    "\n",
    "@njit(parallel=True, error_model=\"numpy\")\n",
    "def check_multi_plus(arr_len, num_threads=8):\n",
    "    save = np.zeros(arr_len, dtype=\"int64\")\n",
    "    a = np.zeros((num_threads, arr_len), dtype=\"int64\")\n",
    "    for thread_id in prange(num_threads):\n",
    "        indexes = np.random.permutation(np.arange(arr_len))[:arr_len//num_threads + 1]\n",
    "        for i in indexes:\n",
    "            a[thread_id, i] += 1\n",
    "            save[i] += 1\n",
    "    b = np.zeros(arr_len, dtype=\"int64\")\n",
    "    for thread_id in range(num_threads):\n",
    "        b+=a[thread_id]\n",
    "    #return np.all(save == b)\n",
    "    return save, b, np.all(save == b)\n",
    "check_multi_plus(100, num_threads=18)"
   ]
  },
  {
   "cell_type": "code",
   "execution_count": null,
   "metadata": {},
   "outputs": [],
   "source": []
  }
 ],
 "metadata": {
  "kernelspec": {
   "display_name": ".venv",
   "language": "python",
   "name": "python3"
  },
  "language_info": {
   "codemirror_mode": {
    "name": "ipython",
    "version": 3
   },
   "file_extension": ".py",
   "mimetype": "text/x-python",
   "name": "python",
   "nbconvert_exporter": "python",
   "pygments_lexer": "ipython3",
   "version": "3.10.17"
  }
 },
 "nbformat": 4,
 "nbformat_minor": 2
}
