{
 "cells": [
  {
   "cell_type": "code",
   "execution_count": null,
   "metadata": {},
   "outputs": [
    {
     "name": "stderr",
     "output_type": "stream",
     "text": [
      "2025-04-10 10:09:37,036 : numba=0.61.0, numpy=2.1.3\n",
      "2025-04-10 10:09:37,036 : OPT=_OptLevel(3), THREADING_LAYER=default\n",
      "2025-04-10 10:09:37,036 : USING_SVML=False, ENABLE_AVX=True, DISABLE_JIT=0\n",
      "2025-04-10 10:09:37,037 : SIS\n",
      "2025-04-10 10:09:37,037 : num_threads=8, how_many_to_save=500000, \n",
      "2025-04-10 10:09:37,037 : how_many_to_save_per_1_core=63814, \n",
      "2025-04-10 10:09:37,037 : max_n_op=4, model_score=debug_1d, \n",
      "2025-04-10 10:09:37,037 : x.shape=(5, 40), is_use_1=True\n",
      "2025-04-10 10:09:37,038 : use_binary_op=[-1, -2, -3, -4], \n",
      "2025-04-10 10:09:37,038 : use_unary_op=[]\n",
      "2025-04-10 10:09:37,038 : units=[0] , [0] , [0] , [0] , [0]\n",
      "2025-04-10 10:09:37,038 : compiling\n"
     ]
    }
   ],
   "source": [
    "from util_for_test import make_unique_eqs, finder, check\n",
    "import numpy as np\n",
    "max_n_op = 4\n",
    "upper = 1.5\n",
    "lower = 0.5\n",
    "len_x = 40\n",
    "how_many_to_save = 500000\n",
    "x = np.random.uniform(lower, upper, (max_n_op + 1, len_x))\n",
    "calced_x, calced_eq, arr_columns = make_unique_eqs(x, max_n_op, how_many_to_save=how_many_to_save, is_print=True, log_interval=120)"
   ]
  },
  {
   "cell_type": "code",
   "execution_count": 2,
   "metadata": {},
   "outputs": [
    {
     "data": {
      "text/plain": [
       "(418697, 9)"
      ]
     },
     "execution_count": 2,
     "metadata": {},
     "output_type": "execute_result"
    }
   ],
   "source": [
    "calced_eq.shape"
   ]
  },
  {
   "cell_type": "code",
   "execution_count": 2,
   "metadata": {},
   "outputs": [
    {
     "name": "stdout",
     "output_type": "stream",
     "text": [
      "finding : \n",
      "same :  [ 1  2  3 -4  4 -3  1 -2 -4]\n",
      "done : make random_x\n"
     ]
    }
   ],
   "source": [
    "target_eq = np.array([1,2,3,-4,4,-3,1,-2,-4])\n",
    "finder(target_eq, x=x, calced_x=calced_x, calced_eq=calced_eq)"
   ]
  },
  {
   "cell_type": "code",
   "execution_count": 3,
   "metadata": {},
   "outputs": [
    {
     "name": "stdout",
     "output_type": "stream",
     "text": [
      "many calc :  2 [   1    1    5   -1    4   -3   -3 -100 -100]\n",
      "[ 4  4 -1  1  5 -1 -3  1 -3]\n",
      "[   1    5   -1    4   -3    1   -3 -100 -100]\n"
     ]
    },
    {
     "data": {
      "text/plain": [
       "False"
      ]
     },
     "execution_count": 3,
     "metadata": {},
     "output_type": "execute_result"
    }
   ],
   "source": [
    "n_random = 1000000\n",
    "find = [\"not_calced\", \"many_calc\"]# [\"not_calced\"]\n",
    "check(n_random, x, calced_x, calced_eq, find, log_interval=5)"
   ]
  },
  {
   "cell_type": "code",
   "execution_count": null,
   "metadata": {},
   "outputs": [],
   "source": [
    "from util_for_test import finder\n",
    "import numpy as np\n",
    "target_eq = np.array([1, 1, -3, 2, -4, 2, -2])\n",
    "finder(target_eq)"
   ]
  },
  {
   "cell_type": "code",
   "execution_count": null,
   "metadata": {},
   "outputs": [],
   "source": [
    "[ 1  2  2 -3  1 -4  1 -2 -4]"
   ]
  },
  {
   "cell_type": "code",
   "execution_count": null,
   "metadata": {},
   "outputs": [],
   "source": [
    "not calced :  [ 2  2  4  1  5 -4 -3 -2 -4] 0.09279815643807351\n",
    "not calced :  [ 5  5  3  4  2 -4 -3 -1 -4] 1.622520828752577\n",
    "not calced :  [ 4  5  1 -3  2 -4  4 -2 -4] 0.05453123325323784\n",
    "not calced :  [ 5  5  1  4  2 -4 -3 -2 -4] 0.157141080172706\n",
    "not calced :  [ 5  5  4  2  1 -4 -3 -2 -4] 0.05453123325323879\n",
    "not calced :  [ 5  5  1  5 -4  1 -3 -1 -4] 1.5912550351971864\n",
    "not calced :  [ 3  2  1 -4  5 -3  3 -2 -4] 0.1057777231470847\n",
    "not calced :  [ 3  4  4 -3  3 -4  3 -2 -4] 0.0704404922652119\n",
    "not calced :  [ 4  4  3  1 -4  2 -3 -1 -4] 0.8468567934189181"
   ]
  },
  {
   "cell_type": "code",
   "execution_count": null,
   "metadata": {},
   "outputs": [],
   "source": [
    "from numba import njit, prange\n",
    "import numpy as np\n",
    "\n",
    "@njit(parallel=True, error_model=\"numpy\")\n",
    "def check_multi_or(arr_len, num_threads=8):\n",
    "    save = np.zeros(arr_len, dtype=\"bool\")\n",
    "    a = np.zeros((num_threads, arr_len), dtype=\"bool\")\n",
    "    for thread_id in prange(num_threads):\n",
    "        indexes = np.random.permutation(np.arange(arr_len))[:arr_len//num_threads]\n",
    "        for i in indexes:\n",
    "            a[thread_id, i] = True\n",
    "            save[i] = True\n",
    "    b = np.zeros(arr_len, dtype=\"bool\")\n",
    "    for thread_id in range(num_threads):\n",
    "        b|=a[thread_id]\n",
    "    return np.all(save == b)\n",
    "check_multi_or(1000000, num_threads=18)"
   ]
  },
  {
   "cell_type": "code",
   "execution_count": null,
   "metadata": {},
   "outputs": [],
   "source": [
    "from numba import njit, prange\n",
    "import numpy as np\n",
    "\n",
    "@njit(parallel=True, error_model=\"numpy\")\n",
    "def check_multi_plus(arr_len, num_threads=8):\n",
    "    save = np.zeros(arr_len, dtype=\"int64\")\n",
    "    a = np.zeros((num_threads, arr_len), dtype=\"int64\")\n",
    "    for thread_id in prange(num_threads):\n",
    "        indexes = np.random.permutation(np.arange(arr_len))[:arr_len//num_threads + 1]\n",
    "        for i in indexes:\n",
    "            a[thread_id, i] += 1\n",
    "            save[i] += 1\n",
    "    b = np.zeros(arr_len, dtype=\"int64\")\n",
    "    for thread_id in range(num_threads):\n",
    "        b+=a[thread_id]\n",
    "    #return np.all(save == b)\n",
    "    return save, b, np.all(save == b)\n",
    "check_multi_plus(100, num_threads=18)"
   ]
  },
  {
   "cell_type": "code",
   "execution_count": null,
   "metadata": {},
   "outputs": [],
   "source": []
  }
 ],
 "metadata": {
  "kernelspec": {
   "display_name": "Env_3.10_for_any",
   "language": "python",
   "name": "python3"
  },
  "language_info": {
   "codemirror_mode": {
    "name": "ipython",
    "version": 3
   },
   "file_extension": ".py",
   "mimetype": "text/x-python",
   "name": "python",
   "nbconvert_exporter": "python",
   "pygments_lexer": "ipython3",
   "version": "3.10.15"
  }
 },
 "nbformat": 4,
 "nbformat_minor": 2
}
